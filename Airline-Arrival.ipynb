{
 "cells": [
  {
   "cell_type": "markdown",
   "metadata": {},
   "source": [
    "# <B>Airline Arrivals Project</B>\n",
    "\n",
    "Use this dataset of airline arrival information to predict how late flights\n",
    "will be. A flight only counts as late if it is more than 30 minutes late.\n",
    "1. The project should follow guideline as previous projects.\n",
    "2. Apply models in Naïve Bayes, Logistic Regression, Decision\n",
    "Tree, Random Forest, Gradient Boosting and SVM.\n",
    "3. Apply PCA, SelectKBest and RFE for feature selections.\n",
    "4. Using gridsearchCV to obtain best parameters for models.\n",
    "5. Compare performances among models, write up analysis\n",
    "why the model is good or bad in the algorithmic approach\n",
    "(explain why the algorithm is good or bad for the dataset\n",
    "structure, can you do something to improve the model?)\n",
    "6. Include the conclusions."
   ]
  },
  {
   "cell_type": "code",
   "execution_count": 2,
   "metadata": {},
   "outputs": [],
   "source": [
    "import pandas as pd\n",
    "import statsmodels.api as sm\n",
    "from statsmodels.formula.api import ols\n",
    "from matplotlib import rc\n",
    "import matplotlib.ticker as ticker\n",
    "import numpy as np\n",
    "from scipy import stats\n",
    "import matplotlib.pyplot as plt\n",
    "from sklearn.metrics import mean_squared_error\n",
    "from sklearn.model_selection import train_test_split\n",
    "from sklearn import datasets, linear_model\n",
    "from sklearn.model_selection import cross_val_score\n",
    "from sklearn.linear_model import LinearRegression\n",
    "%matplotlib inline"
   ]
  },
  {
   "cell_type": "markdown",
   "metadata": {},
   "source": [
    "# 1. Examine and explore data (visualization, interactions among features)"
   ]
  },
  {
   "cell_type": "code",
   "execution_count": 4,
   "metadata": {},
   "outputs": [],
   "source": [
    "data=pd.read_csv(\"2008.csv\")"
   ]
  },
  {
   "cell_type": "code",
   "execution_count": null,
   "metadata": {},
   "outputs": [],
   "source": []
  }
 ],
 "metadata": {
  "kernelspec": {
   "display_name": "Python 3",
   "language": "python",
   "name": "python3"
  },
  "language_info": {
   "codemirror_mode": {
    "name": "ipython",
    "version": 3
   },
   "file_extension": ".py",
   "mimetype": "text/x-python",
   "name": "python",
   "nbconvert_exporter": "python",
   "pygments_lexer": "ipython3",
   "version": "3.7.3"
  }
 },
 "nbformat": 4,
 "nbformat_minor": 2
}
